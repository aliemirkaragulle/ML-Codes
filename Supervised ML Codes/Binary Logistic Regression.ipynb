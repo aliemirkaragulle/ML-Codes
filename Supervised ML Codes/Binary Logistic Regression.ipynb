{
 "cells": [
  {
   "cell_type": "code",
   "execution_count": 1,
   "metadata": {},
   "outputs": [],
   "source": [
    "import numpy as np\n",
    "import matplotlib.pyplot as plt\n",
    "import math"
   ]
  },
  {
   "cell_type": "code",
   "execution_count": 2,
   "metadata": {},
   "outputs": [
    {
     "name": "stdout",
     "output_type": "stream",
     "text": [
      "Shape of the Data Set: (100, 2)\n",
      "Number of Training Examples: 100\n",
      "Number of Features: 2\n"
     ]
    }
   ],
   "source": [
    "# Load the Data Set\n",
    "def load_grades_data():\n",
    "    data = np.loadtxt(\"grades.txt\", delimiter=',')\n",
    "    X = data[:,:2]\n",
    "    y = data[:,2]\n",
    "    return X, y\n",
    "\n",
    "X_train, y_train = load_grades_data()\n",
    "X_features = ['Exam 1 Score','Exam 2 Score']\n",
    "\n",
    "print(f\"Shape of the Data Set: {X_train.shape}\")\n",
    "print(f\"Number of Training Examples: {X_train.shape[0]}\")\n",
    "print(f\"Number of Features: {X_train.shape[1]}\")"
   ]
  },
  {
   "cell_type": "code",
   "execution_count": 3,
   "metadata": {},
   "outputs": [
    {
     "name": "stdout",
     "output_type": "stream",
     "text": [
      "[[34.62365962 78.02469282]\n",
      " [30.28671077 43.89499752]\n",
      " [35.84740877 72.90219803]\n",
      " [60.18259939 86.3085521 ]\n",
      " [79.03273605 75.34437644]]\n",
      "Shape of X: (100, 2)\n",
      "\n",
      "\n",
      "[0. 0. 0. 1. 1.]\n",
      "Shape of y: (100,)\n"
     ]
    }
   ],
   "source": [
    "print(X_train[:5])\n",
    "print(f\"Shape of X: {X_train.shape}\")\n",
    "print(\"\\n\")\n",
    "\n",
    "print(y_train[:5])\n",
    "print(f\"Shape of y: {y_train.shape}\")"
   ]
  },
  {
   "cell_type": "code",
   "execution_count": 4,
   "metadata": {},
   "outputs": [
    {
     "data": {
      "image/png": "[encoded data removed]",
      "text/plain": [
       "<Figure size 288x288 with 1 Axes>"
      ]
     },
     "metadata": {
      "needs_background": "light"
     },
     "output_type": "display_data"
    }
   ],
   "source": [
    "# Visualization\n",
    "fig, ax = plt.subplots(1, 1, figsize=(4,4))\n",
    "\n",
    "# Create a list of colors based on y_train values\n",
    "colors = ['blue' if y == 0 else 'red' for y in y_train]\n",
    "\n",
    "ax.scatter(X_train[:,0], X_train[:,1], c=colors)\n",
    "\n",
    "# Create a Legend\n",
    "legend_elements = [plt.Line2D([0], [0], marker='o', color='w', label='Admitted', markerfacecolor='red', markersize=10),\n",
    "                   plt.Line2D([0], [0], marker='o', color='w', label='Not Admitted', markerfacecolor='blue', markersize=10)]\n",
    "\n",
    "ax.legend(handles=legend_elements, loc='upper left')\n",
    "\n",
    "ax.set_xlabel('$x_0$', fontsize=12)\n",
    "ax.set_ylabel('$x_1$', fontsize=12)\n",
    "plt.show()"
   ]
  },
  {
   "cell_type": "markdown",
   "metadata": {},
   "source": [
    "## Model: Logistic Regression\n",
    "#### g is the Sigmoid Function (Logistic Function)\n",
    "$$\n",
    "\\begin{align}\n",
    "  f_{\\mathbf{w},b}(\\mathbf{x^{(i)}}) &= g(z^{(i)}) \\\\\n",
    "  z^{(i)} &= \\mathbf{w} \\cdot \\mathbf{x}^{(i)}+ b \\\\\n",
    "  g(z^{(i)}) &= \\frac{1}{1+e^{-z^{(i)}}}\n",
    "\\end{align}\n",
    "$$\n",
    "  \n",
    "$$f_{\\mathbf{w},b}(\\mathbf{x}^{(i)}) = P(y=1 \\mid \\mathbf{x}; \\mathbf{w}, b)$$\n",
    "If $f_{\\mathbf{w},b}(x) >= 0.5$, Predict $y=1$\n",
    "\n",
    "If $f_{\\mathbf{w},b}(x) < 0.5$, Predict $y=0$\n",
    "\n",
    "#### Decision Boundary: $z = \\mathbf{w} \\cdot \\mathbf{x} + b = 0$\n",
    "\n",
    "  If $\\mathbf{w} \\cdot \\mathbf{x} + b >= 0$, the Model Predicts $y=1$\n",
    "  \n",
    "  If $\\mathbf{w} \\cdot \\mathbf{x} + b < 0$, the Model Predicts $y=0$"
   ]
  },
  {
   "cell_type": "code",
   "execution_count": 5,
   "metadata": {},
   "outputs": [],
   "source": [
    "def sigmoid(z):\n",
    "    \"\"\"\n",
    "    Compute the sigmoid of z.\n",
    "\n",
    "    Args:\n",
    "        z (ndarray): A scalar, numpy array of any size.\n",
    "\n",
    "    Returns:\n",
    "        g (ndarray): sigmoid(z), with the same shape as z\n",
    "         \n",
    "    \"\"\"\n",
    "    g = 1/(1 + np.exp(-z))\n",
    "    return g"
   ]
  },
  {
   "cell_type": "code",
   "execution_count": 6,
   "metadata": {},
   "outputs": [
    {
     "name": "stdout",
     "output_type": "stream",
     "text": [
      "z: [-100    0  100], Sigmoid(z): [3.72007598e-44 5.00000000e-01 1.00000000e+00]\n",
      "Sigmoid(Small Num): 3.7200759760208356e-44\n",
      "Sigmoid(0): 0.5\n",
      "Sigmoid(Large Num): 1.0\n",
      "\n",
      "\n",
      "z: 0.0 Sigmoid(z): 0.5\n",
      "z: 0.0 Sigmoid(z): 0.5\n",
      "z: 0.0 Sigmoid(z): 0.5\n",
      "z: 0.0 Sigmoid(z): 0.5\n",
      "z: 0.0 Sigmoid(z): 0.5\n"
     ]
    }
   ],
   "source": [
    "# Test the Sigmoid Function\n",
    "z = np.array([-100, 0, 100])\n",
    "print(f\"z: {z}, Sigmoid(z): {sigmoid(z)}\")\n",
    "print(f\"Sigmoid(Small Num): {sigmoid(-100)}\")\n",
    "print(f\"Sigmoid(0): {sigmoid(0)}\")\n",
    "print(f\"Sigmoid(Large Num): {sigmoid(100)}\")\n",
    "print(f\"\\n\")\n",
    "\n",
    "# Test the Sigmoid Function on our Data\n",
    "m, n = X_train.shape\n",
    "w_tmp = np.zeros(n)\n",
    "b_tmp = 0\n",
    "\n",
    "for i in range(5):\n",
    "    print(f\"z: {np.dot(w_tmp, X_train[i]) + b_tmp} Sigmoid(z): { sigmoid(np.dot(w_tmp, X_train[i]))}\")"
   ]
  },
  {
   "cell_type": "code",
   "execution_count": 7,
   "metadata": {},
   "outputs": [
    {
     "data": {
      "text/plain": [
       "Text(0, 0.5, 'Sigmoid(z)')"
      ]
     },
     "execution_count": 7,
     "metadata": {},
     "output_type": "execute_result"
    },
    {
     "data": {
      "image/png": "[encoded data removed]",
      "text/plain": [
       "<Figure size 360x216 with 1 Axes>"
      ]
     },
     "metadata": {
      "needs_background": "light"
     },
     "output_type": "display_data"
    }
   ],
   "source": [
    "# Plot the Sigmoid Function (A General Case)\n",
    "z_tmp = np.arange(-10, 11)\n",
    "y = sigmoid(z_tmp)\n",
    "\n",
    "fig, ax = plt.subplots(1, 1, figsize=(5,3))\n",
    "\n",
    "ax.plot(z_tmp, y)\n",
    "ax.set_title(\"Sigmoid Function\")\n",
    "ax.set_xlabel(\"z\")\n",
    "ax.set_ylabel(\"Sigmoid(z)\")"
   ]
  },
  {
   "cell_type": "markdown",
   "metadata": {},
   "source": [
    "## Cost Function:  Log-Loss (Binary Cross-Entropy Loss)\n",
    "$$ J(\\mathbf{w},b) = \\frac{1}{m} \\sum_{i=0}^{m-1} \\left[ loss(f_{\\mathbf{w},b}(\\mathbf{x}^{(i)}), y^{(i)}) \\right] \\ $$\n",
    "$$loss(f_{\\mathbf{w},b}(\\mathbf{x}^{(i)}), y^{(i)}) = -y^{(i)} \\log\\left(f_{\\mathbf{w},b}\\left( \\mathbf{x}^{(i)} \\right) \\right) - \\left( 1 - y^{(i)}\\right) \\log \\left( 1 - f_{\\mathbf{w},b}\\left( \\mathbf{x}^{(i)} \\right) \\right) \\ $$\n",
    "\n",
    "$$J(\\mathbf{w},b) = \\frac{1}{m}  \\sum_{i=0}^{m-1} \\left[ -y^{(i)} \\log\\left(f_{\\mathbf{w},b}\\left( \\mathbf{x}^{(i)} \\right) \\right) - \\left( 1 - y^{(i)}\\right) \\log \\left( 1 - f_{\\mathbf{w},b}\\left( \\mathbf{x}^{(i)} \\right) \\right) \\right] + \\frac{\\lambda}{2m}  \\sum_{j=0}^{n-1} w_j^2$$\n",
    "\n",
    "$$\n",
    "\\begin{align}\n",
    "  f_{\\mathbf{w},b}(\\mathbf{x^{(i)}}) &= g(z^{(i)}) \\\\\n",
    "  z^{(i)} &= \\mathbf{w} \\cdot \\mathbf{x}^{(i)}+ b \\\\\n",
    "  g(z^{(i)}) &= \\frac{1}{1+e^{-z^{(i)}}}\n",
    "\\end{align}\n",
    "$$"
   ]
  },
  {
   "cell_type": "code",
   "execution_count": 8,
   "metadata": {},
   "outputs": [],
   "source": [
    "def compute_cost_logistic(X, y, w, b):\n",
    "    \"\"\"\n",
    "    Computes cost.\n",
    "\n",
    "    Args:\n",
    "      X (ndarray (m,n)): Data, m examples with n features\n",
    "      y (ndarray (m,)) : target values\n",
    "      w (ndarray (n,)) : model parameters  \n",
    "      b (scalar)       : model parameter\n",
    "      \n",
    "    Returns:\n",
    "      cost (scalar): cost\n",
    "    \"\"\"\n",
    "    # Number of Training Examples\n",
    "    m = X.shape[0]\n",
    "    cost = 0\n",
    "    \n",
    "    # Loop m\n",
    "    for i in range(m):\n",
    "        # Add Loss Function to the Cost Function\n",
    "        z_i = np.dot(w, X[i]) + b\n",
    "        f_wb_i = sigmoid(z_i)\n",
    "        loss_i = -y[i]*np.log(f_wb_i)-(1-y[i])*np.log(1-(f_wb_i))\n",
    "        cost += loss_i\n",
    "    \n",
    "    cost /= m\n",
    "    return cost"
   ]
  },
  {
   "cell_type": "code",
   "execution_count": 9,
   "metadata": {},
   "outputs": [
    {
     "name": "stdout",
     "output_type": "stream",
     "text": [
      "0.6931471805599458\n"
     ]
    }
   ],
   "source": [
    "logistic_cost = compute_cost_logistic(X_train, y_train, w_tmp, b_tmp)\n",
    "print(logistic_cost)"
   ]
  },
  {
   "cell_type": "code",
   "execution_count": 10,
   "metadata": {},
   "outputs": [
    {
     "name": "stdout",
     "output_type": "stream",
     "text": [
      "Cost at Test w and b (Non-Zeros): 0.21833019382659777\n"
     ]
    }
   ],
   "source": [
    "# Non-Zero Parameters\n",
    "test_w = np.array([0.2, 0.2])\n",
    "test_b = -24.\n",
    "cost = compute_cost_logistic(X_train, y_train, test_w, test_b)\n",
    "\n",
    "print(f'Cost at Test w and b (Non-Zeros): {cost}')"
   ]
  },
  {
   "cell_type": "markdown",
   "metadata": {},
   "source": [
    "## Batch Gradient Descent\n",
    "$$\\begin{align*}\n",
    "&\\text{repeat until convergence:} \\; \\lbrace \\\\\n",
    "&  \\; \\; \\;w_j = w_j -  \\alpha \\frac{\\partial J(\\mathbf{w},b)}{\\partial w_j} \\; & \\text{for j := 0..n-1} \\\\ \n",
    "&  \\; \\; \\;  \\; \\;b = b -  \\alpha \\frac{\\partial J(\\mathbf{w},b)}{\\partial b} \\\\\n",
    "&\\rbrace \\text{simultaneous updates}\n",
    "\\end{align*}$$\n",
    "\n",
    "$$\\begin{align*}\n",
    "\\frac{\\partial J(\\mathbf{w},b)}{\\partial w_j}  &= \\frac{1}{m} \\sum\\limits_{i = 0}^{m-1} (f_{\\mathbf{w},b}(\\mathbf{x}^{(i)}) - y^{(i)})x_{j}^{(i)} \\\\\n",
    "\\frac{\\partial J(\\mathbf{w},b)}{\\partial b}  &= \\frac{1}{m} \\sum\\limits_{i = 0}^{m-1} (f_{\\mathbf{w},b}(\\mathbf{x}^{(i)}) - y^{(i)})\n",
    "\\end{align*}$$"
   ]
  },
  {
   "cell_type": "code",
   "execution_count": 11,
   "metadata": {},
   "outputs": [],
   "source": [
    "def compute_gradient_logistic(X, y, w, b):\n",
    "    \"\"\"\n",
    "    Computes the gradients for logistic regression. \n",
    " \n",
    "    Args:\n",
    "      X (ndarray (m,n): Data, m examples with n features\n",
    "      y (ndarray (m,)): target values\n",
    "      w (ndarray (n,)): model parameters  \n",
    "      b (scalar)      : model parameter\n",
    "    Returns\n",
    "      dj_dw (ndarray (n,)): The gradient of the cost w.r.t. the parameters w. \n",
    "      dj_db (scalar)      : The gradient of the cost w.r.t. the parameter b. \n",
    "    \"\"\"\n",
    "    # Shape of the Data\n",
    "    m, n = X.shape\n",
    "    \n",
    "    # Initialize the Gradients\n",
    "    dj_dw = np.zeros(n)\n",
    "    dj_db = 0\n",
    "    \n",
    "    # Loop through the Examples\n",
    "    for i in range(m):\n",
    "        z_i = np.dot(w, X[i]) + b\n",
    "        f_wb_i = sigmoid(z_i)\n",
    "        err_i = f_wb_i - y[i]\n",
    "        \n",
    "        # Loop through the Features\n",
    "        for j in range(n):\n",
    "            dj_dw[j] += err_i * X[i ,j]\n",
    "            \n",
    "        dj_db += err_i\n",
    "        \n",
    "    dj_dw /= m\n",
    "    dj_db /= m\n",
    "    return dj_dw, dj_db  "
   ]
  },
  {
   "cell_type": "code",
   "execution_count": 12,
   "metadata": {},
   "outputs": [
    {
     "name": "stdout",
     "output_type": "stream",
     "text": [
      "dj_dw: [-12.00921659 -11.26284221]\n",
      "dj_db: -0.1\n"
     ]
    }
   ],
   "source": [
    "dj_dw, dj_db = compute_gradient_logistic(X_train, y_train, w_tmp, b_tmp)\n",
    "\n",
    "print(f\"dj_dw: {dj_dw}\")\n",
    "print(f\"dj_db: {dj_db}\")"
   ]
  },
  {
   "cell_type": "code",
   "execution_count": 13,
   "metadata": {},
   "outputs": [
    {
     "name": "stdout",
     "output_type": "stream",
     "text": [
      "dj_dw: [-44.83135362 -44.37384125]\n",
      "dj_db: -0.5999999999991071\n"
     ]
    }
   ],
   "source": [
    "# Non-Zero Parameters\n",
    "test_w = np.array([0.2, -0.5])\n",
    "test_b = -24.\n",
    "dj_dw, dj_db = compute_gradient_logistic(X_train, y_train, test_w, test_b)\n",
    "\n",
    "print(f\"dj_dw: {dj_dw}\")\n",
    "print(f\"dj_db: {dj_db}\")"
   ]
  },
  {
   "cell_type": "code",
   "execution_count": 14,
   "metadata": {},
   "outputs": [],
   "source": [
    "def gradient_descent(X, y, w_in, b_in, cost_function, gradient_function, alpha, num_iters): \n",
    "    \"\"\"\n",
    "    Performs batch gradient descent to learn theta. Updates theta by taking \n",
    "    num_iters gradient steps with learning rate alpha\n",
    "    \n",
    "    Args:\n",
    "      X :    (ndarray Shape (m, n) data, m examples by n features\n",
    "      y :    (ndarray Shape (m,))  target value \n",
    "      w_in : (ndarray Shape (n,))  Initial values of parameters of the model\n",
    "      b_in : (scalar)              Initial value of parameter of the model\n",
    "      cost_function :              function to compute cost\n",
    "      gradient_function :          function to compute gradient\n",
    "      alpha : (float)              Learning rate\n",
    "      num_iters : (int)            number of iterations to run gradient descent\n",
    "      \n",
    "    Returns:\n",
    "      w : (ndarray Shape (n,)) Updated values of parameters of the model after\n",
    "          running gradient descent\n",
    "      b : (scalar)                Updated value of parameter of the model after\n",
    "          running gradient descent\n",
    "    \"\"\"\n",
    "    # Shape of the Data\n",
    "    m, n = X.shape\n",
    "    \n",
    "    # An Array to Store Cost J and w's at Each Iteration \n",
    "    J_history = []\n",
    "    \n",
    "    w = w_in\n",
    "    b = b_in\n",
    "    \n",
    "    for i in range(num_iters):\n",
    "        # Calculate the Gradient \n",
    "        dj_dw, dj_db = gradient_function(X, y, w, b)\n",
    "        \n",
    "        # Update the Parameters\n",
    "        w = w - alpha * dj_dw\n",
    "        b = b - alpha * dj_db\n",
    "        \n",
    "        # Save Cost J at Each Iteration\n",
    "        if i < 100000: # Prevent Resource Exhaustion \n",
    "            J_history.append(cost_function(X, y, w, b))\n",
    "        \n",
    "        # Save and Print Cost at Each Thousandth Iteration\n",
    "        if (i%1000) == 0:\n",
    "            print(f\"Iteration {i:4d}, Cost: {J_history[i]:8.2f}\")\n",
    "            \n",
    "    return w, b, J_history"
   ]
  },
  {
   "cell_type": "code",
   "execution_count": 15,
   "metadata": {},
   "outputs": [
    {
     "name": "stdout",
     "output_type": "stream",
     "text": [
      "Iteration    0, Cost:     0.96\n",
      "Iteration 1000, Cost:     0.31\n",
      "Iteration 2000, Cost:     0.30\n",
      "Iteration 3000, Cost:     0.30\n",
      "Iteration 4000, Cost:     0.30\n",
      "Iteration 5000, Cost:     0.30\n",
      "Iteration 6000, Cost:     0.30\n",
      "Iteration 7000, Cost:     0.30\n",
      "Iteration 8000, Cost:     0.30\n",
      "Iteration 9000, Cost:     0.30\n",
      "\n",
      "Updated Parameters: w:[0.07125355 0.06482888], b:-8.188622906639248\n"
     ]
    }
   ],
   "source": [
    "np.random.seed(1)\n",
    "initial_w = 0.01 * (np.random.rand(2) - 0.5)\n",
    "initial_b = -8\n",
    "\n",
    "alpha = 0.001\n",
    "iterations = 10000\n",
    "\n",
    "w, b, J_history = gradient_descent(X_train, y_train, initial_w, initial_b, \n",
    "                                   compute_cost_logistic, compute_gradient_logistic, alpha, iterations)\n",
    "print(f\"\\nUpdated Parameters: w:{w}, b:{b}\")"
   ]
  },
  {
   "cell_type": "code",
   "execution_count": 16,
   "metadata": {},
   "outputs": [
    {
     "name": "stdout",
     "output_type": "stream",
     "text": [
      "114.9223129908513\n",
      "126.31135021396497\n"
     ]
    },
    {
     "data": {
      "image/png": "[encoded data removed]",
      "text/plain": [
       "<Figure size 432x360 with 1 Axes>"
      ]
     },
     "metadata": {
      "needs_background": "light"
     },
     "output_type": "display_data"
    }
   ],
   "source": [
    "# Plotting the Decision Boundary\n",
    "fig, ax = plt.subplots(1, 1, figsize=(6,5))\n",
    "\n",
    "# Create a list of colors based on y_train values\n",
    "colors = ['blue' if y == 0 else 'red' for y in y_train]\n",
    "\n",
    "ax.scatter(X_train[:,0], X_train[:,1], c=colors)\n",
    "\n",
    "# Create a Legend\n",
    "legend_elements = [plt.Line2D([0], [0], marker='o', color='w', label='Admitted', markerfacecolor='red', markersize=10),\n",
    "                   plt.Line2D([0], [0], marker='o', color='w', label='Not Admitted', markerfacecolor='blue', markersize=10)]\n",
    "\n",
    "ax.legend(handles=legend_elements, loc='upper left')\n",
    "\n",
    "ax.set_xlabel('$x_0$', fontsize=12)\n",
    "ax.set_ylabel('$x_1$', fontsize=12)\n",
    "\n",
    "# Plot the Decision Boundary (z = 0)\n",
    "\"\"\"\n",
    "In this code, we're calculating the decision boundary for a logistic regression model with two input features. \n",
    "The decision boundary is a line (or hyperplane) that separates the data points into two classes, based on the model's predictions.\n",
    "\n",
    "For a logistic regression model, the decision function is:\n",
    "z = w0 * x0 + w1 * x1 + b\n",
    "where w0 and w1 are the weights for the two features (x0 and x1), and b is the bias term.\n",
    "\n",
    "The model predicts class 1 if z >= 0 and class 0 if z < 0. The decision boundary occurs when z = 0.\n",
    "\n",
    "To find the decision boundary, we can set z = 0 and solve for x1 in terms of x0 (or vice versa):\n",
    "w0 * x0 + w1 * x1 + b = 0\n",
    "\"\"\"\n",
    "x0 = -b/w[0] # x1 = 0\n",
    "x1 = -b/w[1] # x0 = 0\n",
    "\n",
    "print(x0)\n",
    "print(x1)\n",
    "\n",
    "ax.plot([x0,0],[0,x1])\n",
    "\n",
    "plt.show()"
   ]
  },
  {
   "cell_type": "markdown",
   "metadata": {},
   "source": [
    "## Evaluation\n",
    "- Compute the prediction from the model $f(x^{(i)}) = g(w \\cdot x^{(i)} + b)$ for each example \n",
    "- To get a final prediction ($y^{(i)}=0$ or $y^{(i)}=1$) from the logistic regression model, use the following heuristic -\n",
    "\n",
    "  If $f(x^{(i)}) >= 0.5$, Predict $y^{(i)}=1$\n",
    "  \n",
    "  If $f(x^{(i)}) < 0.5$, Predict $y^{(i)}=0$"
   ]
  },
  {
   "cell_type": "code",
   "execution_count": 17,
   "metadata": {},
   "outputs": [],
   "source": [
    "def predict(X, w, b): \n",
    "    \"\"\"\n",
    "    Predict whether the label is 0 or 1 using learned logistic\n",
    "    regression parameters w.\n",
    "    \n",
    "    Args:\n",
    "      X : (ndarray Shape (m,n)) data, m examples by n features\n",
    "      w : (ndarray Shape (n,))  values of parameters of the model      \n",
    "      b : (scalar)              value of bias parameter of the model\n",
    "\n",
    "    Returns:\n",
    "      p : (ndarray (m,)) The predictions for X using a threshold at 0.5\n",
    "    \"\"\"\n",
    "    # Number of Training Examples\n",
    "    m, n = X.shape   \n",
    "    p = np.zeros(m)\n",
    "   \n",
    "    for i in range(m):\n",
    "        z_wb_i = np.dot(w, X[i, :]) + b\n",
    "        f_wb_i = sigmoid(z_wb_i)\n",
    "        \n",
    "        p[i] = f_wb_i >= 0.5\n",
    "        \n",
    "    return p"
   ]
  },
  {
   "cell_type": "code",
   "execution_count": 18,
   "metadata": {},
   "outputs": [
    {
     "name": "stdout",
     "output_type": "stream",
     "text": [
      "Train Accuracy: 92.000000\n"
     ]
    }
   ],
   "source": [
    "# Compute the Accuracy on our Training Set\n",
    "p = predict(X_train, w,b)\n",
    "print('Train Accuracy: %f'%(np.mean(p == y_train) * 100))"
   ]
  }
 ],
 "metadata": {
  "kernelspec": {
   "display_name": "Python 3",
   "language": "python",
   "name": "python3"
  },
  "language_info": {
   "codemirror_mode": {
    "name": "ipython",
    "version": 3
   },
   "file_extension": ".py",
   "mimetype": "text/x-python",
   "name": "python",
   "nbconvert_exporter": "python",
   "pygments_lexer": "ipython3",
   "version": "3.7.4"
  }
 },
 "nbformat": 4,
 "nbformat_minor": 4
}
