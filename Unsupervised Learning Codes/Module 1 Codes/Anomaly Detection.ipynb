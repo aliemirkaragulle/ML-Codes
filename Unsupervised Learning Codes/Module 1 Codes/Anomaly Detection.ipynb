{
 "cells": [
  {
   "cell_type": "code",
   "execution_count": 1,
   "id": "72e33c7a",
   "metadata": {},
   "outputs": [],
   "source": [
    "# Load the Libraries\n",
    "\n",
    "import numpy as np\n",
    "import matplotlib.pyplot as plt"
   ]
  },
  {
   "cell_type": "markdown",
   "id": "7f9d2bc1",
   "metadata": {},
   "source": [
    "<a name=\"2\"></a>\n",
    "## Anomaly detection\n",
    "\n",
    "<a name=\"2.1\"></a>\n",
    "### Problem Statement\n",
    "\n",
    "In this exercise, you will implement an anomaly detection algorithm to\n",
    "detect anomalous behavior in server computers.\n",
    "\n",
    "The dataset contains two features - \n",
    "   * throughput (mb/s) and \n",
    "   * latency (ms) of response of each server.\n",
    "\n",
    "While your servers were operating, you collected $m=307$ examples of how they were behaving, and thus have an unlabeled dataset $\\{x^{(1)}, \\ldots, x^{(m)}\\}$. \n",
    "* You suspect that the vast majority of these examples are “normal” (non-anomalous) examples of the servers operating normally, but there might also be some examples of servers acting anomalously within this dataset.\n",
    "\n",
    "You will use a Gaussian model to detect anomalous examples in your\n",
    "dataset. \n",
    "* You will first start on a 2D dataset that will allow you to visualize what the algorithm is doing.\n",
    "* On that dataset you will fit a Gaussian distribution and then find values that have very low probability and hence can be considered anomalies. \n",
    "* After that, you will apply the anomaly detection algorithm to a larger dataset with many dimensions. \n",
    "\n",
    "<a name=\"2.2\"></a>\n",
    "### Data Set\n",
    "\n",
    "You will start by loading the dataset for this task. \n",
    "- The `load_data()` function shown below loads the data into the variables `X_train`, `X_val` and `y_val` \n",
    "    - You will use `X_train` to fit a Gaussian distribution \n",
    "    - You will use `X_val` and `y_val` as a cross validation set to select a threshold and determine anomalous vs normal examples"
   ]
  },
  {
   "cell_type": "code",
   "execution_count": 2,
   "id": "8dd82905",
   "metadata": {},
   "outputs": [],
   "source": [
    "def load_data():\n",
    "    X = np.load(\"data/X_part1.npy\")\n",
    "    X_val = np.load(\"data/X_val_part1.npy\")\n",
    "    y_val = np.load(\"data/y_val_part1.npy\")\n",
    "    return X, X_val, y_val"
   ]
  },
  {
   "cell_type": "code",
   "execution_count": 3,
   "id": "a1b5ff24",
   "metadata": {},
   "outputs": [],
   "source": [
    "X_train, X_val, y_val = load_data()"
   ]
  },
  {
   "cell_type": "code",
   "execution_count": 4,
   "id": "bcc7b08c",
   "metadata": {},
   "outputs": [
    {
     "name": "stdout",
     "output_type": "stream",
     "text": [
      "The First 5 Elements of X_train Are:\n",
      " [[13.04681517 14.74115241]\n",
      " [13.40852019 13.7632696 ]\n",
      " [14.19591481 15.85318113]\n",
      " [14.91470077 16.17425987]\n",
      " [13.57669961 14.04284944]]\n",
      "\n",
      "\n",
      "The First 5 Elements of X_val Are:\n",
      " [[15.79025979 14.9210243 ]\n",
      " [13.63961877 15.32995521]\n",
      " [14.86589943 16.47386514]\n",
      " [13.58467605 13.98930611]\n",
      " [13.46404167 15.63533011]]\n",
      "\n",
      "\n",
      "The First 5 Elements of y_val Are:\n",
      " [0 0 0 0 0]\n"
     ]
    }
   ],
   "source": [
    "# Display the First Five Elements of X_train\n",
    "print(\"The First 5 Elements of X_train Are:\\n\", X_train[:5])  \n",
    "print(\"\\n\")\n",
    "# Display the First Five Elements of X_val\n",
    "print(\"The First 5 Elements of X_val Are:\\n\", X_val[:5])\n",
    "print(\"\\n\")\n",
    "# Display the First Five Elements of y_val\n",
    "print(\"The First 5 Elements of y_val Are:\\n\", y_val[:5])  "
   ]
  },
  {
   "cell_type": "code",
   "execution_count": 5,
   "id": "c7c927a2",
   "metadata": {},
   "outputs": [
    {
     "name": "stdout",
     "output_type": "stream",
     "text": [
      "The Shape of X_train is: (307, 2)\n",
      "The Shape of X_val is: (307, 2)\n",
      "The Shape of y_val is:  (307,)\n"
     ]
    }
   ],
   "source": [
    "print ('The Shape of X_train is:', X_train.shape)\n",
    "print ('The Shape of X_val is:', X_val.shape)\n",
    "print ('The Shape of y_val is: ', y_val.shape)"
   ]
  },
  {
   "cell_type": "code",
   "execution_count": 6,
   "id": "4c0469b4",
   "metadata": {},
   "outputs": [
    {
     "data": {
      "image/png": "[encoded data removed]",
      "text/plain": [
       "<Figure size 500x500 with 1 Axes>"
      ]
     },
     "metadata": {},
     "output_type": "display_data"
    }
   ],
   "source": [
    "# Plot the Data\n",
    "\n",
    "fig, ax = plt.subplots(figsize=(5,5))\n",
    "\n",
    "ax.scatter(X_train[:,0], X_train[:,1])\n",
    "\n",
    "plt.title(\"The First Data Set\")\n",
    "plt.xlabel(\"Latency (ms)\")\n",
    "plt.ylabel(\"Throughput (mb/s)\")\n",
    "\n",
    "plt.axis([0, 30, 0, 30])\n",
    "\n",
    "plt.show()"
   ]
  },
  {
   "cell_type": "markdown",
   "id": "813583cf",
   "metadata": {},
   "source": [
    "<a name=\"2.3\"></a>\n",
    "### Gaussian Distribution\n",
    "\n",
    "To perform anomaly detection, you will first need to fit a model to the data’s distribution.\n",
    "\n",
    "* Given a training set $\\{x^{(1)}, ..., x^{(m)}\\}$ you want to estimate the Gaussian distribution for each\n",
    "of the features $x_i$. \n",
    "\n",
    "* Recall that the Gaussian distribution is given by\n",
    "\n",
    "   $$ p(x ; \\mu,\\sigma ^2) = \\frac{1}{\\sqrt{2 \\pi \\sigma ^2}}\\exp^{ - \\frac{(x - \\mu)^2}{2 \\sigma ^2} }$$\n",
    "\n",
    "   where $\\mu$ is the mean and $\\sigma^2$ is the variance.\n",
    "   \n",
    "* For each feature $i = 1\\ldots n$, you need to find parameters $\\mu_i$ and $\\sigma_i^2$ that fit the data in the $i$-th dimension $\\{x_i^{(1)}, ..., x_i^{(m)}\\}$ (the $i$-th dimension of each example)."
   ]
  },
  {
   "cell_type": "markdown",
   "id": "1a09c3c1",
   "metadata": {},
   "source": [
    "### Estimating Parameters for a Gaussian Distribution\n",
    "\n",
    "**Implementation**: \n",
    "\n",
    "Your task is to complete the code in `estimate_gaussian` below.\n",
    "\n",
    "<a name=\"ex01\"></a>\n",
    "### Exercise 1\n",
    "\n",
    "Please complete the `estimate_gaussian` function below to calculate `mu` (mean for each feature in `X`) and `var` (variance for each feature in `X`). \n",
    "\n",
    "You can estimate the parameters, ($\\mu_i$, $\\sigma_i^2$), of the $i$-th\n",
    "feature by using the following equations. To estimate the mean, you will\n",
    "use:\n",
    "\n",
    "$$\\mu_i = \\frac{1}{m} \\sum_{j=1}^m x_i^{(j)}$$\n",
    "\n",
    "and for the variance you will use:\n",
    "$$\\sigma_i^2 = \\frac{1}{m} \\sum_{j=1}^m (x_i^{(j)} - \\mu_i)^2$$\n",
    "\n",
    "If you get stuck, you can check out the hints presented after the cell below to help you with the implementation."
   ]
  },
  {
   "cell_type": "code",
   "execution_count": 7,
   "id": "9426418f",
   "metadata": {},
   "outputs": [],
   "source": [
    "def estimate_gaussian(X): \n",
    "    \"\"\"\n",
    "    Calculates mean and variance of all the features \n",
    "    in the dataset.\n",
    "    \n",
    "    Args:\n",
    "        X (ndarray): (m, n) Data matrix\n",
    "    \n",
    "    Returns:\n",
    "        mu (ndarray): (n,) Mean of all features\n",
    "        var (ndarray): (n,) Variance of all features\n",
    "    \"\"\"\n",
    "\n",
    "    m, n = X.shape\n",
    "    \n",
    "    \"\"\" \n",
    "    # LOOP VERSION\n",
    "    mu = np.zeros(n)\n",
    "    var = np.zeros(n)\n",
    "    \n",
    "    # Mean Calculation\n",
    "    for j in range(n):\n",
    "        for i in range(m):\n",
    "            mu[j] += X[i,j]\n",
    "    mu /= m\n",
    "    \n",
    "    # Variance Calculation\n",
    "    for j in range(n):\n",
    "        for i in range(m):\n",
    "            var[j] += ((X[i,j] - mu[j])**2)\n",
    "    var /= m\n",
    "    \"\"\"\n",
    "    \n",
    "    # VECTORIZED VERSION\n",
    "    mu = (1/m) * (np.sum(X, axis=0))\n",
    "    var = (1/m) * (np.sum((X-mu)**2, axis=0))\n",
    "            \n",
    "    return mu, var"
   ]
  },
  {
   "cell_type": "code",
   "execution_count": 8,
   "id": "89a18d81",
   "metadata": {},
   "outputs": [
    {
     "name": "stdout",
     "output_type": "stream",
     "text": [
      "Mean of Each Feature: [14.11222578 14.99771051]\n",
      "Variance of Each Feature: [1.83263141 1.70974533]\n"
     ]
    }
   ],
   "source": [
    "# Estimate Mean and Variance of Each Feature\n",
    "mu, var = estimate_gaussian(X_train)              \n",
    "\n",
    "print(\"Mean of Each Feature:\", mu)\n",
    "print(\"Variance of Each Feature:\", var)"
   ]
  },
  {
   "cell_type": "markdown",
   "id": "6caf0458",
   "metadata": {},
   "source": [
    "### Selecting the Threshold $\\epsilon$\n",
    "\n",
    "Now that you have estimated the Gaussian parameters, you can investigate which examples have a very high probability given this distribution and which examples have a very low probability.  \n",
    "\n",
    "* The low probability examples are more likely to be the anomalies in our dataset. \n",
    "* One way to determine which examples are anomalies is to select a threshold based on a cross validation set. \n",
    "\n",
    "In this section, you will complete the code in `select_threshold` to select the threshold $\\varepsilon$ using the $F_1$ score on a cross validation set.\n",
    "\n",
    "* For this, we will use a cross validation set\n",
    "$\\{(x_{\\rm cv}^{(1)}, y_{\\rm cv}^{(1)}),\\ldots, (x_{\\rm cv}^{(m_{\\rm cv})}, y_{\\rm cv}^{(m_{\\rm cv})})\\}$, where the label $y=1$ corresponds to an anomalous example, and $y=0$ corresponds to a normal example. \n",
    "* For each cross validation example, we will compute $p(x_{\\rm cv}^{(i)})$. The vector of all of these probabilities $p(x_{\\rm cv}^{(1)}), \\ldots, p(x_{\\rm cv}^{(m_{\\rm cv})})$ is passed to `select_threshold` in the vector `p_val`. \n",
    "* The corresponding labels $y_{\\rm cv}^{(1)}, \\ldots, y_{\\rm cv}^{(m_{\\rm cv})}$ are passed to the same function in the vector `y_val`."
   ]
  },
  {
   "cell_type": "markdown",
   "id": "575f9cac",
   "metadata": {},
   "source": [
    "<a name=\"ex02\"></a>\n",
    "### Exercise 2\n",
    "Please complete the `select_threshold` function below to find the best threshold to use for selecting outliers based on the results from the validation set (`p_val`) and the ground truth (`y_val`). \n",
    "\n",
    "* In the provided code `select_threshold`, there is already a loop that will try many different values of $\\varepsilon$ and select the best $\\varepsilon$ based on the $F_1$ score. \n",
    "\n",
    "* You need to implement code to calculate the F1 score from choosing `epsilon` as the threshold and place the value in `F1`. \n",
    "\n",
    "  * Recall that if an example $x$ has a low probability $p(x) < \\varepsilon$, then it is classified as an anomaly. \n",
    "        \n",
    "  * Then, you can compute precision and recall by: \n",
    "   $$\\begin{aligned}\n",
    "   prec&=&\\frac{tp}{tp+fp}\\\\\n",
    "   rec&=&\\frac{tp}{tp+fn},\n",
    "   \\end{aligned}$$ where\n",
    "    * $tp$ is the number of true positives: the ground truth label says it’s an anomaly and our algorithm correctly classified it as an anomaly.\n",
    "    * $fp$ is the number of false positives: the ground truth label says it’s not an anomaly, but our algorithm incorrectly classified it as an anomaly.\n",
    "    * $fn$ is the number of false negatives: the ground truth label says it’s an anomaly, but our algorithm incorrectly classified it as not being anomalous.\n",
    "\n",
    "  * The $F_1$ score is computed using precision ($prec$) and recall ($rec$) as follows:\n",
    "    $$F_1 = \\frac{2\\cdot prec \\cdot rec}{prec + rec}$$ \n",
    "\n",
    "**Implementation Note:** \n",
    "In order to compute $tp$, $fp$ and $fn$, you may be able to use a vectorized implementation rather than loop over all the examples"
   ]
  },
  {
   "cell_type": "code",
   "execution_count": 9,
   "id": "409cace7",
   "metadata": {},
   "outputs": [],
   "source": [
    "def select_threshold(y_val, p_val): \n",
    "    \"\"\"\n",
    "    Finds the best threshold to use for selecting outliers \n",
    "    based on the results from a validation set (p_val) \n",
    "    and the ground truth (y_val).\n",
    "    \n",
    "    Args:\n",
    "        y_val (ndarray): Ground truth on Validation Set\n",
    "        p_val (ndarray): Results on Validation Set\n",
    "        \n",
    "    Returns:\n",
    "        epsilon (float): Threshold chosen \n",
    "        F1 (float):      F1 Score by Choosing Epsilon as Threshold\n",
    "    \"\"\" \n",
    "\n",
    "    best_epsilon = 0\n",
    "    best_F1 = 0\n",
    "    F1 = 0\n",
    "    \n",
    "    step_size = (max(p_val) - min(p_val)) / 1000\n",
    "    \n",
    "    for epsilon in np.arange(min(p_val), max(p_val), step_size):\n",
    "    \n",
    "        predictions = p_val < epsilon\n",
    "        \n",
    "        # Actual: True, Predicted: True\n",
    "        tp = np.sum((predictions == 1) & (y_val == 1))\n",
    "        # Actual: False, Predicted: True\n",
    "        fp = np.sum((predictions == 1) & (y_val == 0))\n",
    "        # Actual: True, Predicted: False\n",
    "        fn = np.sum((predictions == 0) & (y_val == 1))\n",
    "        \n",
    "        prec = tp / (tp + fp)\n",
    "        rec = tp / (tp + fn)\n",
    "        \n",
    "        F1 = 2 * prec * rec / (prec + rec)\n",
    "        \n",
    "        if F1 > best_F1:\n",
    "            best_F1 = F1\n",
    "            best_epsilon = epsilon\n",
    "        \n",
    "    return best_epsilon, best_F1"
   ]
  },
  {
   "cell_type": "code",
   "execution_count": 10,
   "id": "5df39382",
   "metadata": {},
   "outputs": [],
   "source": [
    "def multivariate_gaussian(X, mu, var):\n",
    "    \"\"\"\n",
    "    Computes the probability \n",
    "    density function of the examples X under the multivariate gaussian \n",
    "    distribution with parameters mu and var. If var is a matrix, it is\n",
    "    treated as the covariance matrix. If var is a vector, it is treated\n",
    "    as the var values of the variances in each dimension (a diagonal\n",
    "    covariance matrix).\n",
    "    \"\"\"\n",
    "    \n",
    "    k = len(mu)\n",
    "    \n",
    "    if var.ndim == 1:\n",
    "        var = np.diag(var)\n",
    "        \n",
    "    X = X - mu\n",
    "    p = (2* np.pi)**(-k/2) * np.linalg.det(var)**(-0.5) * \\\n",
    "        np.exp(-0.5 * np.sum(np.matmul(X, np.linalg.pinv(var)) * X, axis=1))\n",
    "    \n",
    "    return p"
   ]
  },
  {
   "cell_type": "code",
   "execution_count": 11,
   "id": "85c18e5d",
   "metadata": {},
   "outputs": [],
   "source": [
    "# Returns the Density of the Multivariate Normal at Each Data Point (Row) of X_train\n",
    "p = multivariate_gaussian(X_train, mu, var)"
   ]
  },
  {
   "cell_type": "code",
   "execution_count": 12,
   "id": "feee9d5c",
   "metadata": {},
   "outputs": [
    {
     "name": "stdout",
     "output_type": "stream",
     "text": [
      "Best Epsilon Found Using Cross-Validation: 8.990852779269493e-05\n",
      "Best F1 on Cross Validation Set: 0.8750000000000001\n"
     ]
    },
    {
     "name": "stderr",
     "output_type": "stream",
     "text": [
      "/var/folders/vg/_31zmxtd0sqbfk6y_b5hc92c0000gn/T/ipykernel_73963/3742084320.py:33: RuntimeWarning: invalid value encountered in scalar divide\n",
      "  prec = tp / (tp + fp)\n"
     ]
    }
   ],
   "source": [
    "p_val = multivariate_gaussian(X_val, mu, var)\n",
    "epsilon, F1 = select_threshold(y_val, p_val)\n",
    "\n",
    "print(f\"Best Epsilon Found Using Cross-Validation: {epsilon}\")\n",
    "print(f\"Best F1 on Cross Validation Set: {F1}\")"
   ]
  }
 ],
 "metadata": {
  "kernelspec": {
   "display_name": "Python 3 (ipykernel)",
   "language": "python",
   "name": "python3"
  },
  "language_info": {
   "codemirror_mode": {
    "name": "ipython",
    "version": 3
   },
   "file_extension": ".py",
   "mimetype": "text/x-python",
   "name": "python",
   "nbconvert_exporter": "python",
   "pygments_lexer": "ipython3",
   "version": "3.11.4"
  }
 },
 "nbformat": 4,
 "nbformat_minor": 5
}
